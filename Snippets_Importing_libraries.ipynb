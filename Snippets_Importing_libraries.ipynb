{
  "cells": [
    {
      "cell_type": "markdown",
      "metadata": {
        "id": "view-in-github",
        "colab_type": "text"
      },
      "source": [
        "<a href=\"https://colab.research.google.com/github/sambwayo/bwayo/blob/main/Snippets_Importing_libraries.ipynb\" target=\"_parent\"><img src=\"https://colab.research.google.com/assets/colab-badge.svg\" alt=\"Open In Colab\"/></a>"
      ]
    },
    {
      "cell_type": "markdown",
      "metadata": {
        "id": "kDn_lVxg3Z2G"
      },
      "source": [
        "# Importing a library that is not in Colaboratory\n",
        "\n",
        "To import a library that's not in Colaboratory by default, you can use `!pip install` or `!apt-get install`."
      ]
    },
    {
      "cell_type": "code",
      "source": [
        "pip install kivy"
      ],
      "metadata": {
        "colab": {
          "base_uri": "https://localhost:8080/"
        },
        "id": "Hs-ISM7VHmf3",
        "outputId": "4ddce93e-da52-44fc-9852-8b4262d8d40e",
        "collapsed": true
      },
      "execution_count": null,
      "outputs": [
        {
          "output_type": "stream",
          "name": "stdout",
          "text": [
            "Collecting kivy\n",
            "  Downloading Kivy-2.3.1-cp311-cp311-manylinux_2_17_x86_64.manylinux2014_x86_64.whl.metadata (14 kB)\n",
            "Collecting Kivy-Garden>=0.1.4 (from kivy)\n",
            "  Downloading Kivy_Garden-0.1.5-py3-none-any.whl.metadata (159 bytes)\n",
            "Requirement already satisfied: docutils in /usr/local/lib/python3.11/dist-packages (from kivy) (0.21.2)\n",
            "Requirement already satisfied: pygments in /usr/local/lib/python3.11/dist-packages (from kivy) (2.18.0)\n",
            "Requirement already satisfied: requests in /usr/local/lib/python3.11/dist-packages (from kivy) (2.32.3)\n",
            "Collecting filetype (from kivy)\n",
            "  Downloading filetype-1.2.0-py2.py3-none-any.whl.metadata (6.5 kB)\n",
            "Requirement already satisfied: charset-normalizer<4,>=2 in /usr/local/lib/python3.11/dist-packages (from requests->kivy) (3.4.1)\n",
            "Requirement already satisfied: idna<4,>=2.5 in /usr/local/lib/python3.11/dist-packages (from requests->kivy) (3.10)\n",
            "Requirement already satisfied: urllib3<3,>=1.21.1 in /usr/local/lib/python3.11/dist-packages (from requests->kivy) (2.3.0)\n",
            "Requirement already satisfied: certifi>=2017.4.17 in /usr/local/lib/python3.11/dist-packages (from requests->kivy) (2025.1.31)\n",
            "Downloading Kivy-2.3.1-cp311-cp311-manylinux_2_17_x86_64.manylinux2014_x86_64.whl (23.0 MB)\n",
            "\u001b[2K   \u001b[90m━━━━━━━━━━━━━━━━━━━━━━━━━━━━━━━━━━━━━━━━\u001b[0m \u001b[32m23.0/23.0 MB\u001b[0m \u001b[31m23.0 MB/s\u001b[0m eta \u001b[36m0:00:00\u001b[0m\n",
            "\u001b[?25hDownloading Kivy_Garden-0.1.5-py3-none-any.whl (4.6 kB)\n",
            "Downloading filetype-1.2.0-py2.py3-none-any.whl (19 kB)\n",
            "Installing collected packages: filetype, Kivy-Garden, kivy\n",
            "Successfully installed Kivy-Garden-0.1.5 filetype-1.2.0 kivy-2.3.1\n"
          ]
        }
      ]
    },
    {
      "cell_type": "code",
      "source": [
        "import kivy\n",
        "from kivy.app import App\n",
        "from kivy.uix.gridlayout import GridLayout\n",
        "from kivy.uix.label import Label\n",
        "from kivy.uix.textinput import TextInput\n",
        "from kivy.uix.button import Button\n",
        "class childapp(GridLayout):\n",
        "    def __init__(self,**kwargs):\n",
        "        super(childapp, self).__init__()\n",
        "        self.cols = 2\n",
        "        self.add_widget(Label(text=\"Student Name\"))\n",
        "        self.s_name = TextInput()\n",
        "        self.add_widget(self.s_name)\n",
        "\n",
        "        self.add_widget(Label(text=\"Student Marks\"))\n",
        "        self.s_marks = TextInput()\n",
        "        self.add_widget(self.s_marks)\n",
        "\n",
        "        self.add_widget(Label(text=\"Student Gender\"))\n",
        "        self.s_gender = TextInput()\n",
        "        self.add_widget(self.s_gender)\n",
        "\n",
        "        self.press = Button(text=\"click me\")\n",
        "        self.press.bind(on_press= self.click_me)\n",
        "        self.add_widget(self.press)\n",
        "\n",
        "    def click_me(self, instances):\n",
        "        print(\"Name of student is\" + self.name.text)\n",
        "        print(\"Marks of student is\" + self.marks.text)\n",
        "        print(\"Gender of student is\" + self.gender.text)\n",
        "        print(\"\")#\n",
        "\n",
        "class parentApp(App):\n",
        "    def build(self):\n",
        "        return childapp()\n",
        "\n",
        "if __name__ == \"__main__\":\n",
        "    parentApp().run()\n",
        "\n"
      ],
      "metadata": {
        "id": "HvEJ8t-DH8Ru"
      },
      "execution_count": null,
      "outputs": []
    },
    {
      "cell_type": "code",
      "execution_count": null,
      "metadata": {
        "id": "GQ18Kd5F3uKe"
      },
      "outputs": [],
      "source": [
        "!pip install matplotlib-venn"
      ]
    },
    {
      "cell_type": "code",
      "execution_count": null,
      "metadata": {
        "id": "__3eqm3q3sr-"
      },
      "outputs": [],
      "source": [
        "!apt-get -qq install -y libfluidsynth1"
      ]
    },
    {
      "cell_type": "markdown",
      "metadata": {
        "id": "apoRbfWsRZ7S"
      },
      "source": [
        "# Install 7zip reader [libarchive](https://pypi.python.org/pypi/libarchive)"
      ]
    },
    {
      "cell_type": "code",
      "execution_count": null,
      "metadata": {
        "id": "d_j7nNbKRmhx"
      },
      "outputs": [],
      "source": [
        "# https://pypi.python.org/pypi/libarchive\n",
        "!apt-get -qq install -y libarchive-dev && pip install -U libarchive\n",
        "import libarchive"
      ]
    },
    {
      "cell_type": "markdown",
      "metadata": {
        "id": "PeaSX9KXR58J"
      },
      "source": [
        "# Install GraphViz & [PyDot](https://pypi.python.org/pypi/pydot)"
      ]
    },
    {
      "cell_type": "code",
      "execution_count": null,
      "metadata": {
        "id": "w9llCG2wSRDx"
      },
      "outputs": [],
      "source": [
        "# https://pypi.python.org/pypi/pydot\n",
        "!apt-get -qq install -y graphviz && pip install pydot\n",
        "import pydot"
      ]
    },
    {
      "cell_type": "markdown",
      "metadata": {
        "id": "Tlh1MKxGrKFO"
      },
      "source": [
        "# Install [cartopy](http://scitools.org.uk/cartopy/docs/latest/)"
      ]
    },
    {
      "cell_type": "code",
      "execution_count": null,
      "metadata": {
        "id": "Zq68DSY2rP2W"
      },
      "outputs": [],
      "source": [
        "!pip install cartopy\n",
        "import cartopy"
      ]
    }
  ],
  "metadata": {
    "colab": {
      "name": "Snippets: Importing libraries",
      "provenance": [],
      "include_colab_link": true
    },
    "kernelspec": {
      "display_name": "Python 3",
      "name": "python3"
    }
  },
  "nbformat": 4,
  "nbformat_minor": 0
}